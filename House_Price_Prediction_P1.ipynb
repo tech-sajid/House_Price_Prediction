{
  "nbformat": 4,
  "nbformat_minor": 0,
  "metadata": {
    "colab": {
      "provenance": []
    },
    "kernelspec": {
      "name": "python3",
      "display_name": "Python 3"
    },
    "language_info": {
      "name": "python"
    }
  },
  "cells": [
    {
      "cell_type": "code",
      "source": [
        "from sklearn.compose import make_column_transformer\n",
        "from sklearn.model_selection import train_test_split\n",
        "from sklearn.linear_model import LinearRegression, Lasso, Ridge\n",
        "from sklearn.preprocessing import OneHotEncoder, StandardScaler\n",
        "from sklearn.pipeline import make_pipeline\n",
        "from sklearn.metrics import r2_score\n",
        "import kagglehub\n",
        "import os\n",
        "import pandas as pd\n",
        "import numpy as np\n",
        "import pickle"
      ],
      "metadata": {
        "id": "-nXiUJ2d2UKH"
      },
      "execution_count": 18,
      "outputs": []
    },
    {
      "cell_type": "code",
      "source": [
        "def convert_range(x):\n",
        "    temp = x.split('-')\n",
        "    if len(temp) == 2:\n",
        "        return (float(temp[0]) + float(temp[1])) / 2\n",
        "    try:\n",
        "        return float(x)\n",
        "    except:\n",
        "        return None"
      ],
      "metadata": {
        "id": "rNPf02iE26tk"
      },
      "execution_count": 19,
      "outputs": []
    },
    {
      "cell_type": "code",
      "source": [
        "def remove_outliers_sqft(df):\n",
        "    df_output = pd.DataFrame()\n",
        "    for key, subf in df.groupby('location'):\n",
        "        m = np.mean(subf.price_per_sqft)\n",
        "        st = np.std(subf.price_per_sqft)\n",
        "        gen_df = subf[(subf.price_per_sqft > (m - st)) & (subf.price_per_sqft <= (m + st))]\n",
        "        df_output = pd.concat([df_output, gen_df], ignore_index=True)\n",
        "    return df_output"
      ],
      "metadata": {
        "id": "jsC74qUR3KOU"
      },
      "execution_count": 20,
      "outputs": []
    },
    {
      "cell_type": "code",
      "source": [
        "def bhk_outlier_remover(df):\n",
        "  exclude_indices = np.array([])\n",
        "  for location, location_df in df.groupby('location'):\n",
        "    bhk_stats = {}\n",
        "    for bhk, bhk_df in location_df.groupby('bhk'):\n",
        "      bhk_stats[bhk] = {\n",
        "          'mean': np.mean(bhk_df.price_per_sqft),\n",
        "          'std' : np.std(bhk_df.price_per_sqft),\n",
        "          'count': bhk_df.shape[0]\n",
        "      }\n",
        "    for bhk, bhk_df in location_df.groupby('bhk'):\n",
        "      stats = bhk_stats.get(bhk-1)\n",
        "      if stats and stats['count']>5:\n",
        "        exclude_indices = np.append(exclude_indices, bhk_df[bhk_df.price_per_sqft<(stats['mean'])].index.values)\n",
        "  return df.drop(exclude_indices, axis='index')"
      ],
      "metadata": {
        "id": "8x9FGn8G3O80"
      },
      "execution_count": 21,
      "outputs": []
    },
    {
      "cell_type": "code",
      "source": [
        "path = kagglehub.dataset_download(\"amitabhajoy/bengaluru-house-price-data\")\n",
        "files = os.listdir(path)\n",
        "print(\"Files in the dataset directory:\", files)\n",
        "file_path = os.path.join(path, files[0])  # Assuming there's only one CSV file\n",
        "df = pd.read_csv(file_path)\n",
        "df.drop(columns=['area_type','availability','society','balcony'], inplace=True)\n",
        "df['location'] = df['location'].fillna('Sarjapur Road')\n",
        "df['bath'] = df['bath'].fillna(df['bath'].median())\n",
        "df['bhk'] = df['size'].fillna('0').str.split().str.get(0).astype(int)\n",
        "df['total_sqft'] = df['total_sqft'].apply(convert_range)\n",
        "df['price_per_sqft'] = df['price'] * 100000 / df['total_sqft']\n",
        "df['location'] = df['location'].apply(lambda x: x.strip())\n",
        "location_count = df['location'].value_counts()\n",
        "location_count_less_10 = location_count[location_count<=10]\n",
        "df['location'] = df['location'].apply(lambda x: 'other' if x in location_count_less_10 else x)\n",
        "df = df[((df['total_sqft']/df['bhk']) >= 300)]\n",
        "df = remove_outliers_sqft(df)\n",
        "df = bhk_outlier_remover(df)\n",
        "df.drop(columns=['size','price_per_sqft'], inplace=True)\n",
        "df.to_csv('Cleaned_data.csv')"
      ],
      "metadata": {
        "colab": {
          "base_uri": "https://localhost:8080/"
        },
        "id": "9-CwESyP2mLN",
        "outputId": "6658144c-e415-4c3c-c797-467d88c9ef93"
      },
      "execution_count": 22,
      "outputs": [
        {
          "output_type": "stream",
          "name": "stdout",
          "text": [
            "Warning: Looks like you're using an outdated `kagglehub` version, please consider updating (latest version: 0.3.4)\n",
            "Files in the dataset directory: ['Bengaluru_House_Data.csv']\n"
          ]
        }
      ]
    },
    {
      "cell_type": "code",
      "source": [
        "X = df.drop(columns=['price'])\n",
        "y = df['price']\n",
        "X_train, X_test, y_train, y_test = train_test_split(X, y, test_size = 0.2, random_state = 42)\n",
        "column_trans = make_column_transformer(\n",
        "    (OneHotEncoder(sparse_output=False), ['location']),\n",
        "    remainder='passthrough')\n",
        "scaler = StandardScaler()\n",
        "lr = make_pipeline(StandardScaler(), LinearRegression())\n",
        "pipe = make_pipeline(column_trans, scaler, lr)\n",
        "pipe.fit(X_train, y_train)\n",
        "y_pred_lr = pipe.predict(X_test)\n",
        "Linear_regression_r2_score = r2_score(y_test, y_pred_lr)\n",
        "# applying lasso\n",
        "lasso = Lasso()\n",
        "pipe = make_pipeline(column_trans, scaler, lasso)\n",
        "pipe.fit(X_train, y_train)\n",
        "y_pred_lasso = pipe.predict(X_test)\n",
        "lasso_r2_score = r2_score(y_test, y_pred_lasso)\n",
        "# applying Ridge Regression\n",
        "ridge = Ridge()\n",
        "pipe = make_pipeline(column_trans, scaler, ridge)\n",
        "pipe.fit(X_train, y_train)\n",
        "y_pred_ridge = pipe.predict(X_test)\n",
        "ridge_r2_score = r2_score(y_test, y_pred_ridge)\n",
        "print(ridge_r2_score)\n",
        "print(lasso_r2_score)\n",
        "print(Linear_regression_r2_score)"
      ],
      "metadata": {
        "colab": {
          "base_uri": "https://localhost:8080/"
        },
        "id": "bXHSL6PT2mQt",
        "outputId": "9b87f02f-5cf8-4964-e9f8-0a8f73715b16"
      },
      "execution_count": 23,
      "outputs": [
        {
          "output_type": "stream",
          "name": "stdout",
          "text": [
            "0.8024032565605995\n",
            "0.7927494848228667\n",
            "0.8023814311022412\n"
          ]
        }
      ]
    }
  ]
}